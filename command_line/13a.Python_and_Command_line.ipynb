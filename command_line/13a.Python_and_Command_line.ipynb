{
 "cells": [
  {
   "cell_type": "markdown",
   "id": "9f0df9a5-81d8-4fa5-afdf-651b8eec2cd6",
   "metadata": {
    "id": "9f0df9a5-81d8-4fa5-afdf-651b8eec2cd6"
   },
   "source": [
    "# Python and command line\n",
    "\n",
    "Accessing command line through Python.\n"
   ]
  },
  {
   "cell_type": "markdown",
   "id": "-s2qCHUOxWWK",
   "metadata": {
    "id": "-s2qCHUOxWWK"
   },
   "source": [
    "## Command line and bash\n",
    "\n",
    "- A command-line interface (shell / terminal) processes commands to a computer program in the form of lines of text. \n",
    "\n",
    "- The program which handles the interface is called a command-line interpreter. \n",
    "\n",
    "We are using *bash* programming language in Unix shell (Linux / Mac OS terminal).\n",
    "P.S. bash, like Python, is an interpreted programming language, i.e directly executed using interpreter without a need of compiling a program. \n",
    "\n",
    "- Windows and Unix command-line interpreters are different. That's why some bash commands doesn't work in Windows cmd.\n"
   ]
  },
  {
   "cell_type": "markdown",
   "id": "436e4c5c-0cf4-44f1-a189-d4d7a4b5bbca",
   "metadata": {
    "id": "436e4c5c-0cf4-44f1-a189-d4d7a4b5bbca"
   },
   "source": [
    "You may access terminal from Jupyter: \n",
    "\n",
    "> Menu -> New -> Terminal "
   ]
  },
  {
   "cell_type": "markdown",
   "id": "316cbc1b-f2ac-439d-a5d3-08c987584379",
   "metadata": {
    "id": "316cbc1b-f2ac-439d-a5d3-08c987584379"
   },
   "source": [
    "We already know that command line commands can be executed in Jupyter Notebook via `!`. It's Jupyter feature.\n",
    "\n",
    "Similarly, we can access the shell of Google colab:"
   ]
  },
  {
   "cell_type": "code",
   "execution_count": null,
   "id": "79ea3bd5-5f5f-4723-9d65-024d42d88195",
   "metadata": {
    "colab": {
     "base_uri": "https://localhost:8080/"
    },
    "id": "79ea3bd5-5f5f-4723-9d65-024d42d88195",
    "outputId": "eeb62d5b-a18f-49c6-c286-c6d0532e20b0"
   },
   "outputs": [],
   "source": [
    "# print working directory\n",
    "!pwd"
   ]
  },
  {
   "cell_type": "code",
   "execution_count": null,
   "id": "a69676af-86e9-4950-87c9-48c71dae6096",
   "metadata": {
    "id": "a69676af-86e9-4950-87c9-48c71dae6096",
    "outputId": "1dc403d9-2a32-4d99-c1c6-5a14e66407ed"
   },
   "outputs": [],
   "source": [
    "# ls lists all files in the directory\n",
    "!ls blala"
   ]
  },
  {
   "cell_type": "code",
   "execution_count": null,
   "id": "12204ed0-9af6-4441-ac7d-8afdd86d086d",
   "metadata": {
    "colab": {
     "base_uri": "https://localhost:8080/"
    },
    "id": "12204ed0-9af6-4441-ac7d-8afdd86d086d",
    "outputId": "d5193483-f06f-45e6-f9b5-0f9b0f69fb6d"
   },
   "outputs": [],
   "source": [
    "# username\n",
    "!whoami"
   ]
  },
  {
   "cell_type": "code",
   "execution_count": null,
   "id": "3TH7LX3v5AGh",
   "metadata": {
    "colab": {
     "base_uri": "https://localhost:8080/"
    },
    "id": "3TH7LX3v5AGh",
    "outputId": "10274ce5-6ffa-41a2-dda8-64fd31a083bc"
   },
   "outputs": [],
   "source": [
    "# echo is bash-analog of print\n",
    "!echo \"Preved!\""
   ]
  },
  {
   "cell_type": "code",
   "execution_count": null,
   "id": "CjUS8hEa5XGN",
   "metadata": {
    "colab": {
     "base_uri": "https://localhost:8080/"
    },
    "id": "CjUS8hEa5XGN",
    "outputId": "d45ec4b9-bf69-4f47-f23a-a9a5fc74e7cc"
   },
   "outputs": [],
   "source": [
    "# get the location of the program\n",
    "!which python"
   ]
  },
  {
   "cell_type": "code",
   "execution_count": null,
   "id": "9ea9696f-4a7a-4e98-ad81-3e9a5138bc7c",
   "metadata": {
    "id": "9ea9696f-4a7a-4e98-ad81-3e9a5138bc7c"
   },
   "outputs": [],
   "source": [
    "# pip is the package installer for Python\n",
    "!pip install pandas\n",
    "!conda install -c anaconda pandas"
   ]
  },
  {
   "cell_type": "code",
   "execution_count": null,
   "id": "FcnZbJ0zTKkd",
   "metadata": {
    "colab": {
     "base_uri": "https://localhost:8080/"
    },
    "id": "FcnZbJ0zTKkd",
    "outputId": "efc8dbf9-b79a-46a5-f46a-068009fb1853"
   },
   "outputs": [],
   "source": [
    "# download file from web\n",
    "!wget  https://files.rcsb.org/download/4OGS.pdb"
   ]
  },
  {
   "cell_type": "code",
   "execution_count": null,
   "id": "KKDX04uQxcx_",
   "metadata": {
    "colab": {
     "base_uri": "https://localhost:8080/"
    },
    "id": "KKDX04uQxcx_",
    "outputId": "b38b974f-2db7-435e-f3c1-6da5b0086114"
   },
   "outputs": [],
   "source": [
    "# download seminar files\n",
    "!wget https://github.com/litvinanna/intro_to_prog/raw/main/command_line/uniprot.zip"
   ]
  },
  {
   "cell_type": "code",
   "execution_count": null,
   "id": "kfA3cfEG0Xd-",
   "metadata": {
    "colab": {
     "base_uri": "https://localhost:8080/"
    },
    "id": "kfA3cfEG0Xd-",
    "outputId": "9818557b-9b35-4c48-f28a-c6155413334e"
   },
   "outputs": [],
   "source": [
    "# uncompress archive\n",
    "!unzip uniprot.zip"
   ]
  },
  {
   "cell_type": "code",
   "execution_count": null,
   "id": "KOmm7ggl049Q",
   "metadata": {
    "colab": {
     "base_uri": "https://localhost:8080/"
    },
    "id": "KOmm7ggl049Q",
    "outputId": "7de9cddc-b5df-4cfe-8160-62605d28fe83"
   },
   "outputs": [],
   "source": [
    "# view first 5 lines\n",
    "!head uniprot/P02144.txt"
   ]
  },
  {
   "cell_type": "markdown",
   "id": "da93726e-4680-4412-9c36-65862e458741",
   "metadata": {
    "id": "da93726e-4680-4412-9c36-65862e458741"
   },
   "source": [
    "However, to incorporate the commands into loops or pass arguments it isconvenient to use `subprocess` or `os`."
   ]
  },
  {
   "cell_type": "markdown",
   "id": "690fd5bf-e3be-4af3-9065-6f259db91b62",
   "metadata": {
    "id": "690fd5bf-e3be-4af3-9065-6f259db91b62"
   },
   "source": [
    "## Subprocess and os"
   ]
  },
  {
   "cell_type": "code",
   "execution_count": null,
   "id": "yjAeSxcr1YVB",
   "metadata": {
    "id": "yjAeSxcr1YVB"
   },
   "outputs": [],
   "source": [
    "import os, subprocess"
   ]
  },
  {
   "cell_type": "markdown",
   "id": "tBSrBEvp1Y-3",
   "metadata": {
    "id": "tBSrBEvp1Y-3"
   },
   "source": [
    "You can execute terminal commands using `os.system`. It runs the command and returns the exit status of the process. 0 means Success."
   ]
  },
  {
   "cell_type": "code",
   "execution_count": null,
   "id": "YWHScf8T1LYy",
   "metadata": {
    "colab": {
     "base_uri": "https://localhost:8080/"
    },
    "id": "YWHScf8T1LYy",
    "outputId": "fb743ab3-559b-4253-c674-16819b542841"
   },
   "outputs": [],
   "source": [
    "# l - long output, h - human-readable\n",
    "!ls -lh uniprot/"
   ]
  },
  {
   "cell_type": "code",
   "execution_count": null,
   "id": "c63ea0f2-8e99-4a04-8ff5-132cc98eaba8",
   "metadata": {
    "colab": {
     "base_uri": "https://localhost:8080/"
    },
    "id": "c63ea0f2-8e99-4a04-8ff5-132cc98eaba8",
    "outputId": "697da91b-6233-4fc3-de5b-fdce73541205"
   },
   "outputs": [],
   "source": [
    "os.system('ls -lh uniprot/')"
   ]
  },
  {
   "cell_type": "code",
   "execution_count": null,
   "id": "PzsBiFzs2vc7",
   "metadata": {
    "colab": {
     "base_uri": "https://localhost:8080/"
    },
    "id": "PzsBiFzs2vc7",
    "outputId": "0b044e6e-e5d8-4ff1-9c69-5276f77b7ecc"
   },
   "outputs": [],
   "source": [
    "# copy file\n",
    "os.system('cp uniprot/P02144.txt P02144.txt')"
   ]
  },
  {
   "cell_type": "code",
   "execution_count": null,
   "id": "ihm3b6mL2J1B",
   "metadata": {
    "colab": {
     "base_uri": "https://localhost:8080/"
    },
    "id": "ihm3b6mL2J1B",
    "outputId": "74a8c3b3-e915-43f2-d300-4b0125a14ab9"
   },
   "outputs": [],
   "source": [
    "!ls -l not_existing directory"
   ]
  },
  {
   "cell_type": "code",
   "execution_count": null,
   "id": "LB9g3j1I2d_7",
   "metadata": {
    "colab": {
     "base_uri": "https://localhost:8080/"
    },
    "id": "LB9g3j1I2d_7",
    "outputId": "85281534-bea6-4a17-f6fe-a7ec10c32308"
   },
   "outputs": [],
   "source": [
    "os.system('ls -l not_existing directory')"
   ]
  },
  {
   "cell_type": "markdown",
   "id": "b0452fb9-ec77-4afc-aae0-82b75522088f",
   "metadata": {
    "id": "b0452fb9-ec77-4afc-aae0-82b75522088f"
   },
   "source": [
    "`subprocess.call` takes the list consisting of the command and its arguments.\n",
    "\n",
    "It executes the command silently and doesn't print the output. It returns _returncode_ attribute ('0' is for \"everything ok\"), which is not an output."
   ]
  },
  {
   "cell_type": "code",
   "execution_count": null,
   "id": "b3bb21b8-f4ad-4d0d-b776-651769330de6",
   "metadata": {
    "colab": {
     "base_uri": "https://localhost:8080/"
    },
    "id": "b3bb21b8-f4ad-4d0d-b776-651769330de6",
    "outputId": "1edccc22-aff3-4e24-dba5-081e11a807d6"
   },
   "outputs": [],
   "source": [
    "subprocess.call([\"ls\", \"-l\"]) "
   ]
  },
  {
   "cell_type": "code",
   "execution_count": null,
   "id": "1daf035b-0190-461b-86e6-b54e1c894063",
   "metadata": {
    "colab": {
     "base_uri": "https://localhost:8080/"
    },
    "id": "1daf035b-0190-461b-86e6-b54e1c894063",
    "outputId": "229bc8dd-4f10-48bb-d6b0-7a02f6f3af10"
   },
   "outputs": [],
   "source": [
    "# this will return an error because there is no such directory\n",
    "subprocess.call([\"ls\", \"-l\", \"no_dir_with_this_name\"]) "
   ]
  },
  {
   "cell_type": "code",
   "execution_count": null,
   "id": "2fd8dfad-d3fd-402b-af5d-a40e282bb5d8",
   "metadata": {
    "colab": {
     "base_uri": "https://localhost:8080/"
    },
    "id": "2fd8dfad-d3fd-402b-af5d-a40e282bb5d8",
    "outputId": "6c96f0c5-7696-423c-d9a3-2fa2b4fbf44a"
   },
   "outputs": [],
   "source": [
    "# touch - update last modified time if file exists, if not - create it\n",
    "filename = 'file.txt'\n",
    "subprocess.call([\"touch\", filename]) "
   ]
  },
  {
   "cell_type": "markdown",
   "id": "bd73857d-f9f1-4184-b5cf-96cb00ef5c7f",
   "metadata": {
    "id": "bd73857d-f9f1-4184-b5cf-96cb00ef5c7f"
   },
   "source": [
    "To pass the whole command as a string, not a list, use `shell=True`:"
   ]
  },
  {
   "cell_type": "code",
   "execution_count": null,
   "id": "b678b11e-74bf-41e4-b9e6-512b7c87992d",
   "metadata": {
    "colab": {
     "base_uri": "https://localhost:8080/"
    },
    "id": "b678b11e-74bf-41e4-b9e6-512b7c87992d",
    "outputId": "fbc23ccb-5bd2-4a0c-d090-7409f6f531a2"
   },
   "outputs": [],
   "source": [
    "subprocess.call(\"touch file2.txt\", shell=True) "
   ]
  },
  {
   "cell_type": "code",
   "execution_count": null,
   "id": "fcda57c9-10bc-4c8f-ba9c-e25869d75f4b",
   "metadata": {
    "colab": {
     "base_uri": "https://localhost:8080/"
    },
    "id": "fcda57c9-10bc-4c8f-ba9c-e25869d75f4b",
    "outputId": "81e8b21e-cf6d-40ed-c6e0-1b7e2035b326",
    "tags": []
   },
   "outputs": [],
   "source": [
    "command = 'echo'\n",
    "arg = '\"Meow ^_^\"'\n",
    "out = 'file.txt'\n",
    "\n",
    "cmd = ' '.join([command, arg, '>', out])\n",
    "print(cmd)\n",
    "\n",
    "subprocess.call(cmd, shell=True) "
   ]
  },
  {
   "cell_type": "code",
   "execution_count": null,
   "id": "H5rLYLnj3igx",
   "metadata": {
    "colab": {
     "base_uri": "https://localhost:8080/"
    },
    "id": "H5rLYLnj3igx",
    "outputId": "969fb44c-ed34-43ae-bfff-2c84d83244a8"
   },
   "outputs": [],
   "source": [
    "# see file contents\n",
    "!cat file.txt"
   ]
  },
  {
   "cell_type": "code",
   "execution_count": null,
   "id": "50eebebc-27d5-41c9-a22a-84bdc03080ec",
   "metadata": {
    "colab": {
     "base_uri": "https://localhost:8080/"
    },
    "id": "50eebebc-27d5-41c9-a22a-84bdc03080ec",
    "outputId": "b115fc22-adf3-4d6d-d4b3-ca6bc82f9351",
    "tags": []
   },
   "outputs": [],
   "source": [
    "pdb = '7B2D.pdb'\n",
    "term = '\"REMARK 500\"'\n",
    "out = 'file2.txt'\n",
    "\n",
    "# separate commands by ;\n",
    "# grep is used to search for words and patterns in text files\n",
    "# '>' redirects the output to a file\n",
    "cmd = ' '.join(['wget', 'https://files.rcsb.org/download/'+pdb, ';', \n",
    "                'grep', term, pdb, '>', out])\n",
    "print(cmd)\n",
    "\n",
    "subprocess.call(cmd, shell=True) "
   ]
  },
  {
   "cell_type": "code",
   "execution_count": null,
   "id": "aBQ3fGVj4AeL",
   "metadata": {
    "colab": {
     "base_uri": "https://localhost:8080/"
    },
    "id": "aBQ3fGVj4AeL",
    "outputId": "36d375b9-dd58-47cb-d771-1c0c5135ec2b"
   },
   "outputs": [],
   "source": [
    "!cat file2.txt"
   ]
  },
  {
   "cell_type": "markdown",
   "id": "ecba1611-0e37-4098-9360-2a8d29a3d6b2",
   "metadata": {
    "id": "ecba1611-0e37-4098-9360-2a8d29a3d6b2"
   },
   "source": [
    "To check and rise the error when necessary, use `check_call`:"
   ]
  },
  {
   "cell_type": "code",
   "execution_count": null,
   "id": "f632eb09-6bcd-4fd4-be56-0fa91ae2d1dc",
   "metadata": {
    "colab": {
     "base_uri": "https://localhost:8080/",
     "height": 299
    },
    "id": "f632eb09-6bcd-4fd4-be56-0fa91ae2d1dc",
    "outputId": "2462bd2e-2730-4450-f393-dfc6c7b8353a"
   },
   "outputs": [],
   "source": [
    "subprocess.check_call([\"ls\", \"-l\", \"blabla\"])"
   ]
  },
  {
   "cell_type": "markdown",
   "id": "r9lJL8wFJ9wp",
   "metadata": {
    "id": "r9lJL8wFJ9wp"
   },
   "source": [
    "#### Exercise \n",
    "\n",
    "Write a function that takes the Uniprot accession number and downloads the Uniprot file using `wget` if it doesn't exist in the directory `unipot/`, and prints \"File exists.\" if the file exists. \n",
    "\n",
    "Link pattern for Uniprot file download: https://rest.uniprot.org/uniprotkb/P05067.txt\n",
    "\n",
    "The file should be downloaded to `uniprot/` directory. To specify directory, use -P flag of wget: `wget url-to-file -P directoy-name`.\n",
    "\n",
    "How the function should work:\n",
    "\n",
    "```Python\n",
    "getUniprot('P02144') \n",
    "File exists.\n",
    "\n",
    "getUniprot('P42212')\n",
    "Downloaded P42212. \n",
    "```\n",
    "\n",
    "\n",
    "\n"
   ]
  },
  {
   "cell_type": "code",
   "execution_count": null,
   "id": "F0PCzLr5QcN_",
   "metadata": {
    "id": "F0PCzLr5QcN_"
   },
   "outputs": [],
   "source": [
    "# YOUR CODE HERE\n"
   ]
  },
  {
   "cell_type": "markdown",
   "id": "18eb2ada-63dd-469f-ba19-e2b2887538ca",
   "metadata": {
    "id": "18eb2ada-63dd-469f-ba19-e2b2887538ca"
   },
   "source": [
    "### Save output of executed command"
   ]
  },
  {
   "cell_type": "code",
   "execution_count": null,
   "id": "BrcscXkO3JFB",
   "metadata": {
    "colab": {
     "base_uri": "https://localhost:8080/"
    },
    "id": "BrcscXkO3JFB",
    "outputId": "31987a6b-7857-4c95-9e41-5d16ddce9b0b"
   },
   "outputs": [],
   "source": [
    "ls = os.popen('ls -lh').read()\n",
    "print(ls)"
   ]
  },
  {
   "cell_type": "code",
   "execution_count": null,
   "id": "11379637-3bbd-483c-8c62-844f8ac890bb",
   "metadata": {
    "colab": {
     "base_uri": "https://localhost:8080/"
    },
    "id": "11379637-3bbd-483c-8c62-844f8ac890bb",
    "outputId": "926cbe54-4809-4cec-91ed-8ac05989d5a4"
   },
   "outputs": [],
   "source": [
    "# produces bytes-literal\n",
    "subprocess.check_output([\"echo\", \"Hello World!\"])"
   ]
  },
  {
   "cell_type": "markdown",
   "id": "31YlfYd25ke4",
   "metadata": {
    "id": "31YlfYd25ke4"
   },
   "source": [
    "As you see, it produces bytes-literal. To decode it use `.decode('utf-8')`:"
   ]
  },
  {
   "cell_type": "code",
   "execution_count": null,
   "id": "jA8tAo6048Ni",
   "metadata": {
    "colab": {
     "base_uri": "https://localhost:8080/",
     "height": 36
    },
    "id": "jA8tAo6048Ni",
    "outputId": "ed8b3fec-c5e0-4377-ad2d-d44494369402"
   },
   "outputs": [],
   "source": [
    "first_line = subprocess.check_output(\"head -1 file2.txt\", shell=True)\n",
    "first_line.decode('utf-8')"
   ]
  },
  {
   "cell_type": "code",
   "execution_count": null,
   "id": "d98dd6c8-d429-4e85-9f3e-2427173e8be1",
   "metadata": {
    "colab": {
     "base_uri": "https://localhost:8080/"
    },
    "id": "d98dd6c8-d429-4e85-9f3e-2427173e8be1",
    "outputId": "d24dfe64-b052-4c36-f63d-874e1f9aa513",
    "scrolled": true,
    "tags": []
   },
   "outputs": [],
   "source": [
    "grep = ' '.join([\"grep\", \"'REMARK 465'\", \"7B2D.pdb\"])\n",
    "out = subprocess.check_output(grep, shell=True)\n",
    "print(out.decode('utf-8'))"
   ]
  },
  {
   "cell_type": "markdown",
   "id": "b3039ca4-52ec-4e85-bc8d-fe23044b44cc",
   "metadata": {
    "id": "b3039ca4-52ec-4e85-bc8d-fe23044b44cc"
   },
   "source": [
    "The same might be done using `.Popen().communicate()`. The difference from `.check_output()` is in process initialization, see details, if interested: https://docs.python.org/3/library/subprocess.html#subprocess.Popen"
   ]
  },
  {
   "cell_type": "code",
   "execution_count": null,
   "id": "476ffafb-51ad-457f-8cc1-355bb9b0db8a",
   "metadata": {
    "colab": {
     "base_uri": "https://localhost:8080/",
     "height": 145
    },
    "id": "476ffafb-51ad-457f-8cc1-355bb9b0db8a",
    "outputId": "02f19faf-e44b-4c63-941c-14e7df4ad30d"
   },
   "outputs": [],
   "source": [
    "subprocess.Popen(grep, shell=True, stdout=subprocess.PIPE)\\\n",
    "          .communicate()[0].decode('utf-8')"
   ]
  },
  {
   "cell_type": "code",
   "execution_count": null,
   "id": "9d53b77d-5afd-4d70-b897-31618b410879",
   "metadata": {
    "id": "9d53b77d-5afd-4d70-b897-31618b410879",
    "outputId": "53d7f04e-b40a-40bf-e249-021a466f0047"
   },
   "outputs": [],
   "source": [
    "!ls"
   ]
  },
  {
   "cell_type": "markdown",
   "id": "iN3ez598POHE",
   "metadata": {
    "id": "iN3ez598POHE"
   },
   "source": [
    "#### Exercise \n",
    "\n",
    "Write a function that takes the PDB ID of the structure file and returns the method of experimental structure determination. \n",
    "\n",
    "The experimental method is stored in the line that starts from \"EXPDTA\". There is only one line such line in the file.\n",
    "\n",
    "Use `grep` in your function.\n",
    "\n",
    "How the function should work:\n",
    "\n",
    "```Python\n",
    "getExpMethod('7B2D') \n",
    "X-RAY DIFFRACTION\n",
    "```"
   ]
  },
  {
   "cell_type": "code",
   "execution_count": null,
   "id": "UU6LGiLPN6Zu",
   "metadata": {
    "id": "UU6LGiLPN6Zu"
   },
   "outputs": [],
   "source": [
    "# YOUR CODE HERE\n",
    "\n"
   ]
  },
  {
   "cell_type": "markdown",
   "id": "BLyfkqooAcbH",
   "metadata": {
    "id": "BLyfkqooAcbH"
   },
   "source": [
    "#### Exercise"
   ]
  },
  {
   "cell_type": "markdown",
   "id": "2Cl9mZZF9fHH",
   "metadata": {
    "id": "2Cl9mZZF9fHH"
   },
   "source": [
    "1. Install [STRIDE](http://webclu.bio.wzw.tum.de/stride/), the program for protein secondary structure assignment:\n",
    "\n",
    "```bash\n",
    "wget http://webclu.bio.wzw.tum.de/stride/stride.tar.gz # download source code\n",
    "mkdir stride # make directory stride\n",
    "tar -xzf stride.tar.gz -C stride # extract archive to the directory stride\n",
    "cd stride; make # go to folder stride and complile the program using make\n",
    "```\n",
    "\n",
    "After installation the program will be available by `./stride/stride`.\n",
    "\n",
    "2. Write a function that takes the name of the protein structure file and the program mode (possible modes are 'seq' or 'ss'). If the mode is 'seq' (sequence), it runs stride with the flag -q and saves the output with the name of the input file and extension '.fasta'. If the mode is 'ss' (secondary structure), it runs the stride with the flag -o and saves the output with the name of the input file and extension '.ss'. \n",
    "\n",
    "How the function should work:\n",
    "\n",
    "```bash\n",
    "# will produce file 4OGS.fasta\n",
    "runStride('4OGS.pdb', 'seq')\n",
    "\n",
    "# will produce file 4OGS.ss\n",
    "runStride('4OGS.pdb', 'ss')\n",
    "```"
   ]
  },
  {
   "cell_type": "code",
   "execution_count": null,
   "id": "2DzH8567JV7k",
   "metadata": {
    "colab": {
     "base_uri": "https://localhost:8080/"
    },
    "id": "2DzH8567JV7k",
    "outputId": "2376dca4-9dc0-4485-be2f-b58cb2a7e43b"
   },
   "outputs": [],
   "source": [
    "# check that stride works\n",
    "!./stride/stride "
   ]
  },
  {
   "cell_type": "code",
   "execution_count": null,
   "id": "HmSHY6TiH-Ry",
   "metadata": {
    "colab": {
     "base_uri": "https://localhost:8080/"
    },
    "id": "HmSHY6TiH-Ry",
    "outputId": "f5da0776-10e3-4451-fdd7-d34c5c8e9abf"
   },
   "outputs": [],
   "source": [
    "# try different flags\n",
    "!./stride/stride -q 4OGS.pdb"
   ]
  },
  {
   "cell_type": "code",
   "execution_count": null,
   "id": "TXqajlPQUqju",
   "metadata": {
    "id": "TXqajlPQUqju"
   },
   "outputs": [],
   "source": [
    "# YOUR CODE HERE\n",
    "\n"
   ]
  },
  {
   "cell_type": "markdown",
   "id": "f904f073-db9c-47fe-91da-06eec7311b3c",
   "metadata": {
    "id": "f904f073-db9c-47fe-91da-06eec7311b3c"
   },
   "source": [
    "## * Jupyter from cluster"
   ]
  },
  {
   "cell_type": "markdown",
   "id": "5896b94f-836f-463c-9536-1b35894666c8",
   "metadata": {
    "id": "5896b94f-836f-463c-9536-1b35894666c8"
   },
   "source": [
    "**1. Log in to cluster.**\n",
    "\n",
    "`ssh username@cluster_ip` \\\n",
    "`ssh m.pak@10.30.194.138`\n",
    "\n",
    "**2. Run Jupyter.**\n",
    "\n",
    "`jupyter notebook --no-browser --port=9999`\n",
    "\n",
    "Since there is no browser on cluster we set `--no-browser`. In the `--port` you may specify any number XXXX. By default it is 8888 (when you launch Jupyter on your computer, it starts in the browser window with the adress localhost:8888). If the port is occupied (someone else launched his Jupyter in this port) you will be assigned another port: \n",
    "\n",
    "<img src='https://github.com/litvinanna/intro_to_prog/raw/main/command_line/1.png'>\n",
    "\n",
    "**3. Redirect the port to your browser.**\n",
    "\n",
    "Open the terminal/command line on your computer (not cluster!) and run the following command:\n",
    "\n",
    "`ssh -L localhost:[port for your browser]:localhost:[port you requested on cluster] username@10.30.194.138`\n",
    "\n",
    "`-L` stands for local. If you don't have any opened session of Jupyter, you may use port 8888 for convenience. If it is occupied, use any other YYYY. \n",
    "\n",
    "Example:\n",
    "\n",
    "`ssh -L localhost:8888:localhost:9999 m.pak@10.30.194.138`\n",
    "\n",
    "If you are asked \"Are you sure you want to continue connecting (yes/no)?\" type yes and press Enter. Then enter your cluster password.\n",
    "\n",
    "**4. Open localhost:YYYY in your browser.**\n",
    "\n",
    "You will be asked for a token. Copy the token from terminal and paste into the browser field. Jupyter Notebook on cluster will be launched in your browser.\n",
    "\n",
    "<img src='https://github.com/litvinanna/intro_to_prog/raw/main/command_line/3.png' width='400px'>\n",
    "<img src='https://github.com/litvinanna/intro_to_prog/raw/main/command_line/4.png'>\n",
    "\n",
    "<hr>\n",
    "\n",
    "To see the list of launched notebooks:\n",
    "\n",
    "`jupyter notebook list`\n",
    "\n",
    "To shut the notebook use Ctrl + C or the command `jupyter notebook stop <port number>`\n",
    "\n",
    "<hr>\n",
    "\n",
    "You may launch Jupyter in the screen to be able to leave the session in the termial and still use Jupyter from cluster in your browser. `-S` flag sets the name of your screen.\n",
    "\n",
    "`screen -S jp`\n",
    "\n",
    "To leave the screen and get back to the main session press `Ctrl + A` and the `D`. To see the list of your screens use `screen -ls`. To enter the screen type `screen -r jp`."
   ]
  }
 ],
 "metadata": {
  "colab": {
   "provenance": [],
   "toc_visible": true
  },
  "kernelspec": {
   "display_name": "Python 3 (ipykernel)",
   "language": "python",
   "name": "python3"
  },
  "language_info": {
   "codemirror_mode": {
    "name": "ipython",
    "version": 3
   },
   "file_extension": ".py",
   "mimetype": "text/x-python",
   "name": "python",
   "nbconvert_exporter": "python",
   "pygments_lexer": "ipython3",
   "version": "3.9.12"
  }
 },
 "nbformat": 4,
 "nbformat_minor": 5
}
